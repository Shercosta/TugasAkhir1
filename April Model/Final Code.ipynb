{
  "cells": [
    {
      "cell_type": "code",
      "execution_count": 154,
      "metadata": {
        "colab": {
          "base_uri": "https://localhost:8080/"
        },
        "id": "RQeqFvFHkaPw",
        "outputId": "6b09e718-d12f-40ef-8dd3-758a23a46408"
      },
      "outputs": [
        {
          "name": "stderr",
          "output_type": "stream",
          "text": [
            "[nltk_data] Downloading package punkt to\n",
            "[nltk_data]     C:\\Users\\punch\\AppData\\Roaming\\nltk_data...\n",
            "[nltk_data]   Package punkt is already up-to-date!\n",
            "[nltk_data] Downloading package averaged_perceptron_tagger to\n",
            "[nltk_data]     C:\\Users\\punch\\AppData\\Roaming\\nltk_data...\n",
            "[nltk_data]   Package averaged_perceptron_tagger is already up-to-\n",
            "[nltk_data]       date!\n",
            "[nltk_data] Downloading package wordnet to\n",
            "[nltk_data]     C:\\Users\\punch\\AppData\\Roaming\\nltk_data...\n",
            "[nltk_data]   Package wordnet is already up-to-date!\n",
            "[nltk_data] Downloading package omw-1.4 to\n",
            "[nltk_data]     C:\\Users\\punch\\AppData\\Roaming\\nltk_data...\n",
            "[nltk_data]   Package omw-1.4 is already up-to-date!\n",
            "[nltk_data] Downloading package stopwords to\n",
            "[nltk_data]     C:\\Users\\punch\\AppData\\Roaming\\nltk_data...\n",
            "[nltk_data]   Package stopwords is already up-to-date!\n"
          ]
        }
      ],
      "source": [
        "import nltk\n",
        "from nltk.tokenize import word_tokenize\n",
        "nltk.download('punkt')\n",
        "nltk.download('averaged_perceptron_tagger')\n",
        "from nltk.stem import WordNetLemmatizer \n",
        "nltk.download('wordnet')\n",
        "nltk.download('omw-1.4')\n",
        "from nltk.stem import WordNetLemmatizer\n",
        "from nltk.corpus import wordnet\n",
        "from textblob import TextBlob\n",
        "import pandas as pd\n",
        "import string\n",
        "import re\n",
        "from nltk.corpus import stopwords\n",
        "nltk.download('stopwords')\n",
        "from nltk.stem import SnowballStemmer\n",
        "from textblob import TextBlob\n",
        "import re\n",
        "from sklearn.feature_extraction.text import TfidfVectorizer\n",
        "from sklearn.feature_extraction.text import CountVectorizer\n",
        "from sklearn.feature_extraction.text import TfidfTransformer\n",
        "from sklearn.metrics.pairwise import cosine_similarity"
      ]
    },
    {
      "cell_type": "markdown",
      "metadata": {},
      "source": [
        "**Importing Dataset**"
      ]
    },
    {
      "cell_type": "code",
      "execution_count": 155,
      "metadata": {},
      "outputs": [
        {
          "data": {
            "text/html": [
              "<div>\n",
              "<style scoped>\n",
              "    .dataframe tbody tr th:only-of-type {\n",
              "        vertical-align: middle;\n",
              "    }\n",
              "\n",
              "    .dataframe tbody tr th {\n",
              "        vertical-align: top;\n",
              "    }\n",
              "\n",
              "    .dataframe thead th {\n",
              "        text-align: right;\n",
              "    }\n",
              "</style>\n",
              "<table border=\"1\" class=\"dataframe\">\n",
              "  <thead>\n",
              "    <tr style=\"text-align: right;\">\n",
              "      <th></th>\n",
              "      <th>keyAnswer</th>\n",
              "      <th>studentAnswer</th>\n",
              "    </tr>\n",
              "  </thead>\n",
              "  <tbody>\n",
              "    <tr>\n",
              "      <th>0</th>\n",
              "      <td>The testing stage can influence both the codin...</td>\n",
              "      <td>The implementation phase and the maintenance p...</td>\n",
              "    </tr>\n",
              "    <tr>\n",
              "      <th>1</th>\n",
              "      <td>The implementation phase and the maintenance p...</td>\n",
              "      <td>The testing stage can influence both the codin...</td>\n",
              "    </tr>\n",
              "  </tbody>\n",
              "</table>\n",
              "</div>"
            ],
            "text/plain": [
              "                                           keyAnswer  \\\n",
              "0  The testing stage can influence both the codin...   \n",
              "1  The implementation phase and the maintenance p...   \n",
              "\n",
              "                                       studentAnswer  \n",
              "0  The implementation phase and the maintenance p...  \n",
              "1  The testing stage can influence both the codin...  "
            ]
          },
          "execution_count": 155,
          "metadata": {},
          "output_type": "execute_result"
        }
      ],
      "source": [
        "full_df = pd.read_csv(\"oneset.csv\")\n",
        "full_df"
      ]
    },
    {
      "cell_type": "markdown",
      "metadata": {},
      "source": [
        "**Text Preprocessing**"
      ]
    },
    {
      "cell_type": "markdown",
      "metadata": {},
      "source": [
        "Spelling Correction"
      ]
    },
    {
      "cell_type": "code",
      "execution_count": 156,
      "metadata": {
        "id": "d3h1Ib4XlINo"
      },
      "outputs": [],
      "source": [
        "# Spelling Correction\n",
        "\n",
        "full_df[\"keyAnswer\"] = full_df[\"keyAnswer\"].astype(str)\n",
        "full_df[\"keySpell\"] = full_df[\"keyAnswer\"].apply(lambda txt: ''.join(TextBlob(txt).correct()))"
      ]
    },
    {
      "cell_type": "code",
      "execution_count": 157,
      "metadata": {
        "id": "jjJYn6b-nBeu"
      },
      "outputs": [],
      "source": [
        "full_df[\"studentAnswer\"] = full_df[\"studentAnswer\"].astype(str)\n",
        "full_df[\"studentSpell\"] = full_df[\"studentAnswer\"].apply(lambda txt: ''.join(TextBlob(txt).correct()))"
      ]
    },
    {
      "cell_type": "code",
      "execution_count": 158,
      "metadata": {
        "colab": {
          "base_uri": "https://localhost:8080/",
          "height": 363
        },
        "id": "PIq1rQ6emy0L",
        "outputId": "a07fd7ab-9fef-4600-f252-304da9e7b7d7"
      },
      "outputs": [
        {
          "data": {
            "text/html": [
              "<div>\n",
              "<style scoped>\n",
              "    .dataframe tbody tr th:only-of-type {\n",
              "        vertical-align: middle;\n",
              "    }\n",
              "\n",
              "    .dataframe tbody tr th {\n",
              "        vertical-align: top;\n",
              "    }\n",
              "\n",
              "    .dataframe thead th {\n",
              "        text-align: right;\n",
              "    }\n",
              "</style>\n",
              "<table border=\"1\" class=\"dataframe\">\n",
              "  <thead>\n",
              "    <tr style=\"text-align: right;\">\n",
              "      <th></th>\n",
              "      <th>keyAnswer</th>\n",
              "      <th>keySpell</th>\n",
              "    </tr>\n",
              "  </thead>\n",
              "  <tbody>\n",
              "    <tr>\n",
              "      <th>0</th>\n",
              "      <td>The testing stage can influence both the codin...</td>\n",
              "      <td>The testing stage can influence both the comin...</td>\n",
              "    </tr>\n",
              "    <tr>\n",
              "      <th>1</th>\n",
              "      <td>The implementation phase and the maintenance p...</td>\n",
              "      <td>The implementation phase and the maintenance p...</td>\n",
              "    </tr>\n",
              "  </tbody>\n",
              "</table>\n",
              "</div>"
            ],
            "text/plain": [
              "                                           keyAnswer  \\\n",
              "0  The testing stage can influence both the codin...   \n",
              "1  The implementation phase and the maintenance p...   \n",
              "\n",
              "                                            keySpell  \n",
              "0  The testing stage can influence both the comin...  \n",
              "1  The implementation phase and the maintenance p...  "
            ]
          },
          "execution_count": 158,
          "metadata": {},
          "output_type": "execute_result"
        }
      ],
      "source": [
        "full_df[['keyAnswer','keySpell']]"
      ]
    },
    {
      "cell_type": "markdown",
      "metadata": {},
      "source": [
        "Converting Abbreviation"
      ]
    },
    {
      "cell_type": "code",
      "execution_count": 159,
      "metadata": {
        "id": "k2ssqZ7yn0EG"
      },
      "outputs": [],
      "source": [
        "contractions_dict = {\n",
        "    \"'s\":\" is\",\n",
        "    \"ain't\": \"is not\",\n",
        "    \"aren't\": \"are not\",\n",
        "    \"can't\": \"cannot\",\n",
        "    \"can't've\": \"cannot have\",\n",
        "    \"'cause\": \"because\",\n",
        "    \"could've\": \"could have\",\n",
        "    \"couldn't\": \"could not\",\n",
        "    \"couldn't've\": \"could not have\",\n",
        "    \"didn't\": \"did not\",\n",
        "    \"doesn't\": \"does not\",\n",
        "    \"don't\": \"do not\",\n",
        "    \"hadn't\": \"had not\",\n",
        "    \"hadn't've\": \"had not have\",\n",
        "    \"hasn't\": \"has not\",\n",
        "    \"haven't\": \"have not\",\n",
        "    \"he'd\": \"he would\",\n",
        "    \"he'd've\": \"he would have\",\n",
        "    \"he'll\": \"he will\",\n",
        "    \"he'll've\": \"he he will have\",\n",
        "    \"he's\": \"he is\",\n",
        "    \"how'd\": \"how did\",\n",
        "    \"how'd'y\": \"how do you\",\n",
        "    \"how'll\": \"how will\",\n",
        "    \"how's\": \"how is\",\n",
        "    \"I'd\": \"I would\",\n",
        "    \"I'd've\": \"I would have\",\n",
        "    \"I'll\": \"I will\",\n",
        "    \"I'll've\": \"I will have\",\n",
        "    \"I'm\": \"I am\",\n",
        "    \"I've\": \"I have\",\n",
        "    \"i'd\": \"i would\",\n",
        "    \"i'd've\": \"i would have\",\n",
        "    \"i'll\": \"i will\",\n",
        "    \"i'll've\": \"i will have\",\n",
        "    \"i'm\": \"i am\",\n",
        "    \"i've\": \"i have\",\n",
        "    \"isn't\": \"is not\",\n",
        "    \"it'd\": \"it would\",\n",
        "    \"it'd've\": \"it would have\",\n",
        "    \"it'll\": \"it will\",\n",
        "    \"it'll've\": \"it will have\",\n",
        "    \"it's\": \"it is\",\n",
        "    \"let's\": \"let us\",\n",
        "    \"ma'am\": \"madam\",\n",
        "    \"mayn't\": \"may not\",\n",
        "    \"might've\": \"might have\",\n",
        "    \"mightn't\": \"might not\",\n",
        "    \"mightn't've\": \"might not have\",\n",
        "    \"must've\": \"must have\",\n",
        "    \"mustn't\": \"must not\",\n",
        "    \"mustn't've\": \"must not have\",\n",
        "    \"needn't\": \"need not\",\n",
        "    \"needn't've\": \"need not have\",\n",
        "    \"o'clock\": \"of the clock\",\n",
        "    \"oughtn't\": \"ought not\",\n",
        "    \"oughtn't've\": \"ought not have\",\n",
        "    \"shan't\": \"shall not\",\n",
        "    \"sha'n't\": \"shall not\",\n",
        "    \"shan't've\": \"shall not have\",\n",
        "    \"she'd\": \"she would\",\n",
        "    \"she'd've\": \"she would have\",\n",
        "    \"she'll\": \"she will\",\n",
        "    \"she'll've\": \"she will have\",\n",
        "    \"she's\": \"she is\",\n",
        "    \"should've\": \"should have\",\n",
        "    \"shouldn't\": \"should not\",\n",
        "    \"shouldn't've\": \"should not have\",\n",
        "    \"so've\": \"so have\",\n",
        "    \"so's\": \"so as\",\n",
        "    \"that'd\": \"that would\",\n",
        "    \"that'd've\": \"that would have\",\n",
        "    \"that's\": \"that is\",\n",
        "    \"there'd\": \"there would\",\n",
        "    \"there'd've\": \"there would have\",\n",
        "    \"there's\": \"there is\",\n",
        "    \"they'd\": \"they would\",\n",
        "    \"they'd've\": \"they would have\",\n",
        "    \"they'll\": \"they will\",\n",
        "    \"they'll've\": \"they will have\",\n",
        "    \"they're\": \"they are\",\n",
        "    \"they've\": \"they have\",\n",
        "    \"to've\": \"to have\",\n",
        "    \"wasn't\": \"was not\",\n",
        "    \"we'd\": \"we would\",\n",
        "    \"we'd've\": \"we would have\",\n",
        "    \"we'll\": \"we will\",\n",
        "    \"we'll've\": \"we will have\",\n",
        "    \"we're\": \"we are\",\n",
        "    \"we've\": \"we have\",\n",
        "    \"weren't\": \"were not\",\n",
        "    \"what'll\": \"what will\",\n",
        "    \"what'll've\": \"what will have\",\n",
        "    \"what're\": \"what are\",\n",
        "    \"what's\": \"what is\",\n",
        "    \"what've\": \"what have\",\n",
        "    \"when's\": \"when is\",\n",
        "    \"when've\": \"when have\",\n",
        "    \"where'd\": \"where did\",\n",
        "    \"where's\": \"where is\",\n",
        "    \"where've\": \"where have\",\n",
        "    \"who'll\": \"who will\",\n",
        "    \"who'll've\": \"who will have\",\n",
        "    \"who's\": \"who is\",\n",
        "    \"who've\": \"who have\",\n",
        "    \"why's\": \"why is\",\n",
        "    \"why've\": \"why have\",\n",
        "    \"will've\": \"will have\",\n",
        "    \"won't\": \"will not\",\n",
        "    \"won't've\": \"will not have\",\n",
        "    \"would've\": \"would have\",\n",
        "    \"wouldn't\": \"would not\",\n",
        "    \"wouldn't've\": \"would not have\",\n",
        "    \"y'all\": \"you all\",\n",
        "    \"y'all'd\": \"you all would\",\n",
        "    \"y'all'd've\": \"you all would have\",\n",
        "    \"y'all're\": \"you all are\",\n",
        "    \"y'all've\": \"you all have\",\n",
        "    \"you'd\": \"you would\",\n",
        "    \"you'd've\": \"you would have\",\n",
        "    \"you'll\": \"you will\",\n",
        "    \"you'll've\": \"you will have\",\n",
        "    \"you're\": \"you are\",\n",
        "    \"you've\": \"you have\", \n",
        "    }"
      ]
    },
    {
      "cell_type": "code",
      "execution_count": 160,
      "metadata": {
        "id": "IMfPRDHXTW1v"
      },
      "outputs": [],
      "source": [
        "# Converting Abbreviation\n",
        "\n",
        "contractions_re=re.compile('(%s)' % '|'.join(contractions_dict.keys()))\n",
        "def expand_contractions(text,contractions_dict=contractions_dict):\n",
        "    def replace(match):\n",
        "        return contractions_dict[match.group(0)]\n",
        "    return contractions_re.sub(replace, text)\n",
        "\n",
        "full_df['studentSpell']=full_df['studentSpell'].apply(lambda x:expand_contractions(x))\n",
        "full_df['keySpell']=full_df['keySpell'].apply(lambda x:expand_contractions(x))"
      ]
    },
    {
      "cell_type": "code",
      "execution_count": 161,
      "metadata": {
        "colab": {
          "base_uri": "https://localhost:8080/",
          "height": 363
        },
        "id": "ExfhVl0OTauH",
        "outputId": "7b89b955-7aae-4c9c-83f9-d3366bfdb111"
      },
      "outputs": [
        {
          "data": {
            "text/html": [
              "<div>\n",
              "<style scoped>\n",
              "    .dataframe tbody tr th:only-of-type {\n",
              "        vertical-align: middle;\n",
              "    }\n",
              "\n",
              "    .dataframe tbody tr th {\n",
              "        vertical-align: top;\n",
              "    }\n",
              "\n",
              "    .dataframe thead th {\n",
              "        text-align: right;\n",
              "    }\n",
              "</style>\n",
              "<table border=\"1\" class=\"dataframe\">\n",
              "  <thead>\n",
              "    <tr style=\"text-align: right;\">\n",
              "      <th></th>\n",
              "      <th>studentAnswer</th>\n",
              "      <th>studentSpell</th>\n",
              "    </tr>\n",
              "  </thead>\n",
              "  <tbody>\n",
              "    <tr>\n",
              "      <th>0</th>\n",
              "      <td>The implementation phase and the maintenance p...</td>\n",
              "      <td>The implementation phase and the maintenance p...</td>\n",
              "    </tr>\n",
              "    <tr>\n",
              "      <th>1</th>\n",
              "      <td>The testing stage can influence both the codin...</td>\n",
              "      <td>The testing stage can influence both the comin...</td>\n",
              "    </tr>\n",
              "  </tbody>\n",
              "</table>\n",
              "</div>"
            ],
            "text/plain": [
              "                                       studentAnswer  \\\n",
              "0  The implementation phase and the maintenance p...   \n",
              "1  The testing stage can influence both the codin...   \n",
              "\n",
              "                                        studentSpell  \n",
              "0  The implementation phase and the maintenance p...  \n",
              "1  The testing stage can influence both the comin...  "
            ]
          },
          "execution_count": 161,
          "metadata": {},
          "output_type": "execute_result"
        }
      ],
      "source": [
        "full_df[['studentAnswer','studentSpell']]"
      ]
    },
    {
      "cell_type": "markdown",
      "metadata": {},
      "source": [
        "Case Folding"
      ]
    },
    {
      "cell_type": "code",
      "execution_count": 162,
      "metadata": {
        "colab": {
          "base_uri": "https://localhost:8080/",
          "height": 363
        },
        "id": "pKCRf2slk7gG",
        "outputId": "d1052085-919b-4d45-83e2-e9561656d770"
      },
      "outputs": [
        {
          "data": {
            "text/html": [
              "<div>\n",
              "<style scoped>\n",
              "    .dataframe tbody tr th:only-of-type {\n",
              "        vertical-align: middle;\n",
              "    }\n",
              "\n",
              "    .dataframe tbody tr th {\n",
              "        vertical-align: top;\n",
              "    }\n",
              "\n",
              "    .dataframe thead th {\n",
              "        text-align: right;\n",
              "    }\n",
              "</style>\n",
              "<table border=\"1\" class=\"dataframe\">\n",
              "  <thead>\n",
              "    <tr style=\"text-align: right;\">\n",
              "      <th></th>\n",
              "      <th>studentSpell</th>\n",
              "      <th>studentLower</th>\n",
              "    </tr>\n",
              "  </thead>\n",
              "  <tbody>\n",
              "    <tr>\n",
              "      <th>0</th>\n",
              "      <td>The implementation phase and the maintenance p...</td>\n",
              "      <td>the implementation phase and the maintenance p...</td>\n",
              "    </tr>\n",
              "    <tr>\n",
              "      <th>1</th>\n",
              "      <td>The testing stage can influence both the comin...</td>\n",
              "      <td>the testing stage can influence both the comin...</td>\n",
              "    </tr>\n",
              "  </tbody>\n",
              "</table>\n",
              "</div>"
            ],
            "text/plain": [
              "                                        studentSpell  \\\n",
              "0  The implementation phase and the maintenance p...   \n",
              "1  The testing stage can influence both the comin...   \n",
              "\n",
              "                                        studentLower  \n",
              "0  the implementation phase and the maintenance p...  \n",
              "1  the testing stage can influence both the comin...  "
            ]
          },
          "execution_count": 162,
          "metadata": {},
          "output_type": "execute_result"
        }
      ],
      "source": [
        "#Case Folding\n",
        "\n",
        "full_df[\"keyLower\"] = full_df[\"keySpell\"].str.lower()\n",
        "full_df[\"studentLower\"] = full_df[\"studentSpell\"].str.lower()\n",
        "\n",
        "full_df[['studentSpell', 'studentLower']]"
      ]
    },
    {
      "cell_type": "markdown",
      "metadata": {},
      "source": [
        "Removing Punctuation"
      ]
    },
    {
      "cell_type": "code",
      "execution_count": 163,
      "metadata": {
        "colab": {
          "base_uri": "https://localhost:8080/",
          "height": 570
        },
        "id": "rPdFRIBCy4AO",
        "outputId": "9b97b8d0-3e32-4e9b-99b8-79b96008bfca"
      },
      "outputs": [
        {
          "data": {
            "text/html": [
              "<div>\n",
              "<style scoped>\n",
              "    .dataframe tbody tr th:only-of-type {\n",
              "        vertical-align: middle;\n",
              "    }\n",
              "\n",
              "    .dataframe tbody tr th {\n",
              "        vertical-align: top;\n",
              "    }\n",
              "\n",
              "    .dataframe thead th {\n",
              "        text-align: right;\n",
              "    }\n",
              "</style>\n",
              "<table border=\"1\" class=\"dataframe\">\n",
              "  <thead>\n",
              "    <tr style=\"text-align: right;\">\n",
              "      <th></th>\n",
              "      <th>studentLower</th>\n",
              "      <th>studentPunct</th>\n",
              "    </tr>\n",
              "  </thead>\n",
              "  <tbody>\n",
              "    <tr>\n",
              "      <th>0</th>\n",
              "      <td>the implementation phase and the maintenance p...</td>\n",
              "      <td>the implementation phase and the maintenance p...</td>\n",
              "    </tr>\n",
              "    <tr>\n",
              "      <th>1</th>\n",
              "      <td>the testing stage can influence both the comin...</td>\n",
              "      <td>the testing stage can influence both the comin...</td>\n",
              "    </tr>\n",
              "  </tbody>\n",
              "</table>\n",
              "</div>"
            ],
            "text/plain": [
              "                                        studentLower  \\\n",
              "0  the implementation phase and the maintenance p...   \n",
              "1  the testing stage can influence both the comin...   \n",
              "\n",
              "                                        studentPunct  \n",
              "0  the implementation phase and the maintenance p...  \n",
              "1  the testing stage can influence both the comin...  "
            ]
          },
          "execution_count": 163,
          "metadata": {},
          "output_type": "execute_result"
        }
      ],
      "source": [
        "#Removing Punctuation\n",
        "\n",
        "PUNCT_TO_REMOVE = string.punctuation\n",
        "def remove_punctuation(text):\n",
        "    \"\"\"custom function to remove the punctuation\"\"\"\n",
        "    return text.translate(str.maketrans('', '', PUNCT_TO_REMOVE))\n",
        "\n",
        "full_df[\"keyPunct\"] = full_df[\"keyLower\"].apply(lambda text: remove_punctuation(text))\n",
        "full_df[\"studentPunct\"] = full_df[\"studentLower\"].apply(lambda text: remove_punctuation(text))\n",
        "\n",
        "full_df[['studentLower', 'studentPunct']]"
      ]
    },
    {
      "cell_type": "markdown",
      "metadata": {},
      "source": [
        "Stopword Removal"
      ]
    },
    {
      "cell_type": "code",
      "execution_count": 164,
      "metadata": {
        "colab": {
          "base_uri": "https://localhost:8080/",
          "height": 363
        },
        "id": "0pWFPO4Iy7V_",
        "outputId": "e7583151-2c9d-4918-8d39-d1b0d58d912f"
      },
      "outputs": [
        {
          "data": {
            "text/html": [
              "<div>\n",
              "<style scoped>\n",
              "    .dataframe tbody tr th:only-of-type {\n",
              "        vertical-align: middle;\n",
              "    }\n",
              "\n",
              "    .dataframe tbody tr th {\n",
              "        vertical-align: top;\n",
              "    }\n",
              "\n",
              "    .dataframe thead th {\n",
              "        text-align: right;\n",
              "    }\n",
              "</style>\n",
              "<table border=\"1\" class=\"dataframe\">\n",
              "  <thead>\n",
              "    <tr style=\"text-align: right;\">\n",
              "      <th></th>\n",
              "      <th>studentPunct</th>\n",
              "      <th>studentStopword</th>\n",
              "    </tr>\n",
              "  </thead>\n",
              "  <tbody>\n",
              "    <tr>\n",
              "      <th>0</th>\n",
              "      <td>the implementation phase and the maintenance p...</td>\n",
              "      <td>implementation phase maintenance phase effected</td>\n",
              "    </tr>\n",
              "    <tr>\n",
              "      <th>1</th>\n",
              "      <td>the testing stage can influence both the comin...</td>\n",
              "      <td>testing stage influence coming stage phase 5 s...</td>\n",
              "    </tr>\n",
              "  </tbody>\n",
              "</table>\n",
              "</div>"
            ],
            "text/plain": [
              "                                        studentPunct  \\\n",
              "0  the implementation phase and the maintenance p...   \n",
              "1  the testing stage can influence both the comin...   \n",
              "\n",
              "                                     studentStopword  \n",
              "0    implementation phase maintenance phase effected  \n",
              "1  testing stage influence coming stage phase 5 s...  "
            ]
          },
          "execution_count": 164,
          "metadata": {},
          "output_type": "execute_result"
        }
      ],
      "source": [
        "#Stopword Removal\n",
        "\n",
        "STOPWORDS = set(stopwords.words('english'))\n",
        "def remove_stopwords(text):\n",
        "    \"\"\"custom function to remove the stopwords\"\"\"\n",
        "    return \" \".join([word for word in str(text).split() if word not in STOPWORDS])\n",
        "\n",
        "full_df[\"keyStopword\"] = full_df[\"keyPunct\"].apply(lambda text: remove_stopwords(text))\n",
        "full_df[\"studentStopword\"] = full_df[\"studentPunct\"].apply(lambda text: remove_stopwords(text))\n",
        "\n",
        "full_df[['studentPunct', 'studentStopword']]"
      ]
    },
    {
      "cell_type": "markdown",
      "metadata": {},
      "source": [
        "Stemming"
      ]
    },
    {
      "cell_type": "code",
      "execution_count": 165,
      "metadata": {
        "colab": {
          "base_uri": "https://localhost:8080/",
          "height": 363
        },
        "id": "hez16lN8zAVa",
        "outputId": "e9afcc21-a795-4a1f-b0f3-89cfb919384e"
      },
      "outputs": [
        {
          "data": {
            "text/html": [
              "<div>\n",
              "<style scoped>\n",
              "    .dataframe tbody tr th:only-of-type {\n",
              "        vertical-align: middle;\n",
              "    }\n",
              "\n",
              "    .dataframe tbody tr th {\n",
              "        vertical-align: top;\n",
              "    }\n",
              "\n",
              "    .dataframe thead th {\n",
              "        text-align: right;\n",
              "    }\n",
              "</style>\n",
              "<table border=\"1\" class=\"dataframe\">\n",
              "  <thead>\n",
              "    <tr style=\"text-align: right;\">\n",
              "      <th></th>\n",
              "      <th>studentStopword</th>\n",
              "      <th>studentStem</th>\n",
              "    </tr>\n",
              "  </thead>\n",
              "  <tbody>\n",
              "    <tr>\n",
              "      <th>0</th>\n",
              "      <td>implementation phase maintenance phase effected</td>\n",
              "      <td>implement phase mainten phase effect</td>\n",
              "    </tr>\n",
              "    <tr>\n",
              "      <th>1</th>\n",
              "      <td>testing stage influence coming stage phase 5 s...</td>\n",
              "      <td>test stage influenc come stage phase 5 solut r...</td>\n",
              "    </tr>\n",
              "  </tbody>\n",
              "</table>\n",
              "</div>"
            ],
            "text/plain": [
              "                                     studentStopword  \\\n",
              "0    implementation phase maintenance phase effected   \n",
              "1  testing stage influence coming stage phase 5 s...   \n",
              "\n",
              "                                         studentStem  \n",
              "0               implement phase mainten phase effect  \n",
              "1  test stage influenc come stage phase 5 solut r...  "
            ]
          },
          "execution_count": 165,
          "metadata": {},
          "output_type": "execute_result"
        }
      ],
      "source": [
        "#Stemming\n",
        "\n",
        "stemmer = SnowballStemmer(\"english\")  \n",
        "def stem_words(text):\n",
        "    return \" \".join([stemmer.stem(word) for word in text.split()])\n",
        "\n",
        "full_df[\"studentStem\"] = full_df[\"studentStopword\"].apply(lambda text: stem_words(text))\n",
        "full_df[\"keyStem\"] = full_df[\"keyStopword\"].apply(lambda text: stem_words(text))\n",
        "\n",
        "full_df[['studentStopword','studentStem']]"
      ]
    },
    {
      "attachments": {},
      "cell_type": "markdown",
      "metadata": {},
      "source": [
        "POS Tagging"
      ]
    },
    {
      "cell_type": "code",
      "execution_count": 166,
      "metadata": {},
      "outputs": [],
      "source": [
        "studentSplit = full_df[\"studentStopword\"]\n",
        "keySplit = full_df[\"keyStopword\"]\n",
        "\n",
        "studentSplitWords = [ nltk.word_tokenize( str(sentence) ) for sentence in studentSplit ]\n",
        "keySplitWords = [ nltk.word_tokenize( str(sentence) ) for sentence in keySplit ]\n",
        "full_df[\"studentSplit\"] = studentSplitWords\n",
        "full_df[\"keySplit\"] = keySplitWords"
      ]
    },
    {
      "cell_type": "code",
      "execution_count": 167,
      "metadata": {},
      "outputs": [
        {
          "data": {
            "text/html": [
              "<div>\n",
              "<style scoped>\n",
              "    .dataframe tbody tr th:only-of-type {\n",
              "        vertical-align: middle;\n",
              "    }\n",
              "\n",
              "    .dataframe tbody tr th {\n",
              "        vertical-align: top;\n",
              "    }\n",
              "\n",
              "    .dataframe thead th {\n",
              "        text-align: right;\n",
              "    }\n",
              "</style>\n",
              "<table border=\"1\" class=\"dataframe\">\n",
              "  <thead>\n",
              "    <tr style=\"text-align: right;\">\n",
              "      <th></th>\n",
              "      <th>keyPostag</th>\n",
              "      <th>studentPostag</th>\n",
              "    </tr>\n",
              "  </thead>\n",
              "  <tbody>\n",
              "    <tr>\n",
              "      <th>0</th>\n",
              "      <td>[(testing, VBG), (stage, NN), (influence, NN),...</td>\n",
              "      <td>[(implementation, NN), (phase, NN), (maintenan...</td>\n",
              "    </tr>\n",
              "    <tr>\n",
              "      <th>1</th>\n",
              "      <td>[(implementation, NN), (phase, NN), (maintenan...</td>\n",
              "      <td>[(testing, VBG), (stage, NN), (influence, NN),...</td>\n",
              "    </tr>\n",
              "  </tbody>\n",
              "</table>\n",
              "</div>"
            ],
            "text/plain": [
              "                                           keyPostag  \\\n",
              "0  [(testing, VBG), (stage, NN), (influence, NN),...   \n",
              "1  [(implementation, NN), (phase, NN), (maintenan...   \n",
              "\n",
              "                                       studentPostag  \n",
              "0  [(implementation, NN), (phase, NN), (maintenan...  \n",
              "1  [(testing, VBG), (stage, NN), (influence, NN),...  "
            ]
          },
          "execution_count": 167,
          "metadata": {},
          "output_type": "execute_result"
        }
      ],
      "source": [
        "#POS Tagging\n",
        "\n",
        "full_df[\"keyPostag\"] = full_df[\"keySplit\"].apply(nltk.pos_tag)\n",
        "full_df[\"studentPostag\"] = full_df[\"studentSplit\"].apply(nltk.pos_tag)\n",
        "\n",
        "full_df[['keyPostag','studentPostag']]"
      ]
    },
    {
      "cell_type": "markdown",
      "metadata": {},
      "source": [
        "Lemmatizing"
      ]
    },
    {
      "cell_type": "code",
      "execution_count": 168,
      "metadata": {
        "colab": {
          "base_uri": "https://localhost:8080/",
          "height": 363
        },
        "id": "golmSAaAzDQT",
        "outputId": "00c50763-6812-46c0-cb34-b85af99665a2"
      },
      "outputs": [
        {
          "data": {
            "text/html": [
              "<div>\n",
              "<style scoped>\n",
              "    .dataframe tbody tr th:only-of-type {\n",
              "        vertical-align: middle;\n",
              "    }\n",
              "\n",
              "    .dataframe tbody tr th {\n",
              "        vertical-align: top;\n",
              "    }\n",
              "\n",
              "    .dataframe thead th {\n",
              "        text-align: right;\n",
              "    }\n",
              "</style>\n",
              "<table border=\"1\" class=\"dataframe\">\n",
              "  <thead>\n",
              "    <tr style=\"text-align: right;\">\n",
              "      <th></th>\n",
              "      <th>studentStopword</th>\n",
              "      <th>studentLemmatized</th>\n",
              "    </tr>\n",
              "  </thead>\n",
              "  <tbody>\n",
              "    <tr>\n",
              "      <th>0</th>\n",
              "      <td>implementation phase maintenance phase effected</td>\n",
              "      <td>implementation phase maintenance phase effect</td>\n",
              "    </tr>\n",
              "    <tr>\n",
              "      <th>1</th>\n",
              "      <td>testing stage influence coming stage phase 5 s...</td>\n",
              "      <td>test stage influence come stage phase 5 soluti...</td>\n",
              "    </tr>\n",
              "  </tbody>\n",
              "</table>\n",
              "</div>"
            ],
            "text/plain": [
              "                                     studentStopword  \\\n",
              "0    implementation phase maintenance phase effected   \n",
              "1  testing stage influence coming stage phase 5 s...   \n",
              "\n",
              "                                   studentLemmatized  \n",
              "0      implementation phase maintenance phase effect  \n",
              "1  test stage influence come stage phase 5 soluti...  "
            ]
          },
          "execution_count": 168,
          "metadata": {},
          "output_type": "execute_result"
        }
      ],
      "source": [
        "#Lemmatizing\n",
        "\n",
        "lemmatizer = WordNetLemmatizer()\n",
        "wordnet_map = {\"N\":wordnet.NOUN, \"V\":wordnet.VERB, \"J\":wordnet.ADJ, \"R\":wordnet.ADV}\n",
        "def lemmatize_words(text):\n",
        "    pos_tagged_text = nltk.pos_tag(text.split())\n",
        "    return \" \".join([lemmatizer.lemmatize(word, wordnet_map.get(pos[0], wordnet.NOUN)) for word, pos in pos_tagged_text])\n",
        "\n",
        "full_df[\"studentLemmatized\"] = full_df[\"studentStopword\"].apply(lambda text: lemmatize_words(text))\n",
        "full_df[\"keyLemmatized\"] = full_df[\"keyStopword\"].apply(lambda text: lemmatize_words(text))\n",
        "full_df[['studentStopword','studentLemmatized']]"
      ]
    },
    {
      "cell_type": "markdown",
      "metadata": {},
      "source": [
        "**TF-IDF**"
      ]
    },
    {
      "cell_type": "markdown",
      "metadata": {},
      "source": [
        "TF"
      ]
    },
    {
      "cell_type": "code",
      "execution_count": 169,
      "metadata": {},
      "outputs": [
        {
          "name": "stdout",
          "output_type": "stream",
          "text": [
            "                   come  effect  implementation  influence  maintenance  \\\n",
            "keyLemmatized         1       0               0          1            0   \n",
            "studentLemmatized     0       1               1          0            1   \n",
            "\n",
            "                   phase  refinement  solution  stage  test  \n",
            "keyLemmatized          2           1         1      3     1  \n",
            "studentLemmatized      2           0         0      0     0  \n",
            "                   come  effect  implementation  influence  maintenance  \\\n",
            "keyLemmatized         0       1               1          0            1   \n",
            "studentLemmatized     1       0               0          1            0   \n",
            "\n",
            "                   phase  refinement  solution  stage  test  \n",
            "keyLemmatized          2           0         0      0     0  \n",
            "studentLemmatized      2           1         1      3     1  \n"
          ]
        }
      ],
      "source": [
        "#TF for Lemmatized\n",
        "\n",
        "full_df['keyLemmatized'] = full_df['keyLemmatized'].astype(str)\n",
        "full_df['studentLemmatized'] = full_df['studentLemmatized'].astype(str)\n",
        "\n",
        "for i in range(len(full_df)):\n",
        "  doc1=full_df['keyLemmatized'][i]\n",
        "  doc2=full_df['studentLemmatized'][i]\n",
        "  docs=(doc1,doc2)\n",
        "\n",
        "  countvectorizer = CountVectorizer()\n",
        "  terms = countvectorizer.fit_transform(docs)\n",
        "\n",
        "  columns = countvectorizer.get_feature_names_out()\n",
        "  tf = pd.DataFrame(terms.toarray(),index = ['keyLemmatized','studentLemmatized'], columns=columns)\n",
        "\n",
        "  print(tf)"
      ]
    },
    {
      "cell_type": "code",
      "execution_count": 170,
      "metadata": {},
      "outputs": [
        {
          "name": "stdout",
          "output_type": "stream",
          "text": [
            "             come  effect  implement  influenc  mainten  phase  refin  solut  \\\n",
            "keyStem         1       0          0         1        0      2      1      1   \n",
            "studentStem     0       1          1         0        1      2      0      0   \n",
            "\n",
            "             stage  test  \n",
            "keyStem          3     1  \n",
            "studentStem      0     0  \n",
            "             come  effect  implement  influenc  mainten  phase  refin  solut  \\\n",
            "keyStem         0       1          1         0        1      2      0      0   \n",
            "studentStem     1       0          0         1        0      2      1      1   \n",
            "\n",
            "             stage  test  \n",
            "keyStem          0     0  \n",
            "studentStem      3     1  \n"
          ]
        }
      ],
      "source": [
        "#TF for Stem\n",
        "\n",
        "full_df['keyStem'] = full_df['keyStem'].astype(str)\n",
        "full_df['studentStem'] = full_df['studentStem'].astype(str)\n",
        "\n",
        "for i in range(len(full_df)):\n",
        "  doc12=full_df['keyStem'][i]\n",
        "  doc22=full_df['studentStem'][i]\n",
        "  docs2=(doc12,doc22)\n",
        "  countvectorizer2 = CountVectorizer()\n",
        "  terms2 = countvectorizer2.fit_transform(docs2)\n",
        "\n",
        "  columns2 = countvectorizer2.get_feature_names_out()\n",
        "  tf2 = pd.DataFrame(terms2.toarray(),index = ['keyStem','studentStem'], columns=columns2)\n",
        "\n",
        "  print(tf2)"
      ]
    },
    {
      "cell_type": "markdown",
      "metadata": {},
      "source": [
        "IDF"
      ]
    },
    {
      "cell_type": "code",
      "execution_count": 171,
      "metadata": {
        "colab": {
          "base_uri": "https://localhost:8080/"
        },
        "id": "Mkh1IupZzm1u",
        "outputId": "8582107f-4aac-4253-fb3a-5a7d759011f8"
      },
      "outputs": [
        {
          "name": "stdout",
          "output_type": "stream",
          "text": [
            "                idf_weights\n",
            "come               1.405465\n",
            "effect             1.405465\n",
            "implementation     1.405465\n",
            "influence          1.405465\n",
            "maintenance        1.405465\n",
            "phase              1.000000\n",
            "refinement         1.405465\n",
            "solution           1.405465\n",
            "stage              1.405465\n",
            "test               1.405465\n",
            "                idf_weights\n",
            "come               1.405465\n",
            "effect             1.405465\n",
            "implementation     1.405465\n",
            "influence          1.405465\n",
            "maintenance        1.405465\n",
            "phase              1.000000\n",
            "refinement         1.405465\n",
            "solution           1.405465\n",
            "stage              1.405465\n",
            "test               1.405465\n"
          ]
        }
      ],
      "source": [
        "# IDF for Lemmatized\n",
        "\n",
        "for i in range(len(full_df)):\n",
        "    doc1=full_df['keyLemmatized'][i]\n",
        "    doc2=full_df['studentLemmatized'][i]\n",
        "    docs=(doc1,doc2)\n",
        "\n",
        "    countvectorizer = CountVectorizer()\n",
        "    terms = countvectorizer.fit_transform(docs)\n",
        "\n",
        "    tfidf_transformer=TfidfTransformer(smooth_idf=True,use_idf=True) \n",
        "    tfidf_transformer.fit(terms)\n",
        "\n",
        "    df_idf = pd.DataFrame(tfidf_transformer.idf_, index=countvectorizer.get_feature_names_out(),columns=[\"idf_weights\"]) \n",
        "\n",
        "    print(df_idf)\n"
      ]
    },
    {
      "cell_type": "code",
      "execution_count": 172,
      "metadata": {
        "colab": {
          "base_uri": "https://localhost:8080/"
        },
        "id": "NFq49-hDC7lG",
        "outputId": "8dede59f-33aa-4d2d-cf98-a7e98ea3e662"
      },
      "outputs": [
        {
          "name": "stdout",
          "output_type": "stream",
          "text": [
            "           idf_weights\n",
            "come          1.405465\n",
            "effect        1.405465\n",
            "implement     1.405465\n",
            "influenc      1.405465\n",
            "mainten       1.405465\n",
            "phase         1.000000\n",
            "refin         1.405465\n",
            "solut         1.405465\n",
            "stage         1.405465\n",
            "test          1.405465\n",
            "           idf_weights\n",
            "come          1.405465\n",
            "effect        1.405465\n",
            "implement     1.405465\n",
            "influenc      1.405465\n",
            "mainten       1.405465\n",
            "phase         1.000000\n",
            "refin         1.405465\n",
            "solut         1.405465\n",
            "stage         1.405465\n",
            "test          1.405465\n"
          ]
        }
      ],
      "source": [
        "# IDF for Stem\n",
        "\n",
        "for i in range(len(full_df)):\n",
        "  doc12=full_df['keyStem'][i]\n",
        "  doc22=full_df['studentStem'][i]\n",
        "  docs2=(doc12,doc22)\n",
        "  countvectorizer = CountVectorizer()\n",
        "  terms2 = countvectorizer.fit_transform(docs2)\n",
        "\n",
        "  tfidf_transformer=TfidfTransformer(smooth_idf=True,use_idf=True) \n",
        "  tfidf_transformer.fit(terms2)\n",
        "\n",
        "  df_idf2 = pd.DataFrame(tfidf_transformer.idf_, index=countvectorizer.get_feature_names_out(),columns=[\"idf_weights\"]) \n",
        "\n",
        "  print(df_idf2)"
      ]
    },
    {
      "cell_type": "markdown",
      "metadata": {},
      "source": [
        "TF-IDF"
      ]
    },
    {
      "cell_type": "code",
      "execution_count": 173,
      "metadata": {
        "colab": {
          "base_uri": "https://localhost:8080/"
        },
        "id": "ccbdS1GGzqyg",
        "outputId": "441bd508-aad5-4f6f-b739-cdc7833ed3c4"
      },
      "outputs": [
        {
          "name": "stdout",
          "output_type": "stream",
          "text": [
            "       come    effect  implementation  influence  maintenance     phase  \\\n",
            "0  0.249805  0.000000        0.000000   0.249805     0.000000  0.355477   \n",
            "1  0.000000  0.446101        0.446101   0.000000     0.446101  0.634809   \n",
            "\n",
            "   refinement  solution     stage      test  \n",
            "0    0.249805  0.249805  0.749415  0.249805  \n",
            "1    0.000000  0.000000  0.000000  0.000000  \n",
            "       come    effect  implementation  influence  maintenance     phase  \\\n",
            "0  0.000000  0.446101        0.446101   0.000000     0.446101  0.634809   \n",
            "1  0.249805  0.000000        0.000000   0.249805     0.000000  0.355477   \n",
            "\n",
            "   refinement  solution     stage      test  \n",
            "0    0.000000  0.000000  0.000000  0.000000  \n",
            "1    0.249805  0.249805  0.749415  0.249805  \n"
          ]
        }
      ],
      "source": [
        "# TF-IDF for Lemmatized\n",
        "\n",
        "for i in range(len(full_df)):\n",
        "    doc1=full_df['keyLemmatized'][i]\n",
        "    doc2=full_df['studentLemmatized'][i]\n",
        "    docs=(doc1,doc2)\n",
        "    countvectorizer = CountVectorizer()\n",
        "    terms = countvectorizer.fit_transform(docs)\n",
        "    X = tfidf_transformer.fit_transform(terms)\n",
        "    tf_idf = pd.DataFrame(X.toarray() ,columns=countvectorizer.get_feature_names_out())\n",
        "    print(tf_idf)"
      ]
    },
    {
      "cell_type": "code",
      "execution_count": 174,
      "metadata": {
        "colab": {
          "base_uri": "https://localhost:8080/"
        },
        "id": "ZaUHNBqYDIGP",
        "outputId": "5795afda-f258-44d6-e028-5802ae0ca4c3"
      },
      "outputs": [
        {
          "name": "stdout",
          "output_type": "stream",
          "text": [
            "       come    effect  implement  influenc   mainten     phase     refin  \\\n",
            "0  0.249805  0.000000   0.000000  0.249805  0.000000  0.355477  0.249805   \n",
            "1  0.000000  0.446101   0.446101  0.000000  0.446101  0.634809  0.000000   \n",
            "\n",
            "      solut     stage      test  \n",
            "0  0.249805  0.749415  0.249805  \n",
            "1  0.000000  0.000000  0.000000  \n",
            "       come    effect  implement  influenc   mainten     phase     refin  \\\n",
            "0  0.000000  0.446101   0.446101  0.000000  0.446101  0.634809  0.000000   \n",
            "1  0.249805  0.000000   0.000000  0.249805  0.000000  0.355477  0.249805   \n",
            "\n",
            "      solut     stage      test  \n",
            "0  0.000000  0.000000  0.000000  \n",
            "1  0.249805  0.749415  0.249805  \n"
          ]
        }
      ],
      "source": [
        "# TF-IDF for Stem\n",
        "\n",
        "for i in range(len(full_df)):\n",
        "    doc12=full_df['keyStem'][i]\n",
        "    doc22=full_df['studentStem'][i]\n",
        "    docs2=(doc12,doc22)\n",
        "    countvectorizer = CountVectorizer()\n",
        "    terms2 = countvectorizer.fit_transform(docs2)\n",
        "\n",
        "    X2 = tfidf_transformer.fit_transform(terms2)\n",
        "    tf_idf2 = pd.DataFrame(X2.toarray() ,columns=countvectorizer.get_feature_names_out())\n",
        "    print(tf_idf2)"
      ]
    },
    {
      "cell_type": "markdown",
      "metadata": {},
      "source": [
        "**Cosine Similarity**"
      ]
    },
    {
      "cell_type": "code",
      "execution_count": 175,
      "metadata": {
        "colab": {
          "base_uri": "https://localhost:8080/"
        },
        "id": "RbBE34vnzR3y",
        "outputId": "648d1c1f-b8a8-4186-c7f3-d6e9cc35797a"
      },
      "outputs": [
        {
          "name": "stdout",
          "output_type": "stream",
          "text": [
            "                       come    effect  implementation  influence  maintenance  \\\n",
            "keyLemmatized      0.249805  0.000000        0.000000   0.249805     0.000000   \n",
            "studentLemmatized  0.000000  0.446101        0.446101   0.000000     0.446101   \n",
            "\n",
            "                      phase  refinement  solution     stage      test  \n",
            "keyLemmatized      0.355477    0.249805  0.249805  0.749415  0.249805  \n",
            "studentLemmatized  0.634809    0.000000  0.000000  0.000000  0.000000  \n",
            "Cosine Similarity = 0.22565978583795082\n",
            "\n",
            "\n",
            "                       come    effect  implementation  influence  maintenance  \\\n",
            "keyLemmatized      0.000000  0.446101        0.446101   0.000000     0.446101   \n",
            "studentLemmatized  0.249805  0.000000        0.000000   0.249805     0.000000   \n",
            "\n",
            "                      phase  refinement  solution     stage      test  \n",
            "keyLemmatized      0.634809    0.000000  0.000000  0.000000  0.000000  \n",
            "studentLemmatized  0.355477    0.249805  0.249805  0.749415  0.249805  \n",
            "Cosine Similarity = 0.22565978583795082\n",
            "\n",
            "\n"
          ]
        }
      ],
      "source": [
        "# Cosine Similarity for Lemmatized\n",
        "\n",
        "tfidf_vectorizer = TfidfVectorizer()\n",
        "similarity=[]\n",
        "\n",
        "full_df['keyLemmatized'] = full_df['keyLemmatized'].astype(str)\n",
        "full_df['studentLemmatized'] = full_df['studentLemmatized'].astype(str)\n",
        "\n",
        "for i in range(len(full_df)):\n",
        "  doc1=full_df['keyLemmatized'][i]\n",
        "  doc2=full_df['studentLemmatized'][i]\n",
        "  docs=(doc1,doc2)\n",
        "  tfidf_matrix = tfidf_vectorizer.fit_transform(docs)\n",
        "  tfidf_tokens = tfidf_vectorizer.get_feature_names_out()\n",
        "  df_tfidfvect = pd.DataFrame(data = tfidf_matrix.toarray(),index = ['keyLemmatized','studentLemmatized'],columns = tfidf_tokens)\n",
        "  print(df_tfidfvect)\n",
        "\n",
        "  cosine_sim = cosine_similarity(tfidf_matrix[0], tfidf_matrix[1])\n",
        "  print(\"Cosine Similarity =\", cosine_sim[0][0])\n",
        "  print(\"\\n\")\n",
        "  similarity.append(cosine_sim[0][0])\n",
        "\n",
        "full_df['cosineSimilarityLemma']=similarity\n",
        "\n",
        "# cosinelemma = full_df['cosineSimilarityLemma']\n",
        "# cosinelemma.to_csv('cosinelemma.csv')"
      ]
    },
    {
      "cell_type": "code",
      "execution_count": 176,
      "metadata": {
        "colab": {
          "base_uri": "https://localhost:8080/"
        },
        "id": "Zj1Uoja446LB",
        "outputId": "c15e9ac5-7fb0-4e15-f4f0-124d7fd15c61"
      },
      "outputs": [
        {
          "name": "stdout",
          "output_type": "stream",
          "text": [
            "                 come    effect  implement  influenc   mainten     phase  \\\n",
            "keyStem      0.249805  0.000000   0.000000  0.249805  0.000000  0.355477   \n",
            "studentStem  0.000000  0.446101   0.446101  0.000000  0.446101  0.634809   \n",
            "\n",
            "                refin     solut     stage      test  \n",
            "keyStem      0.249805  0.249805  0.749415  0.249805  \n",
            "studentStem  0.000000  0.000000  0.000000  0.000000  \n",
            "Cosine Similarity = 0.22565978583795082\n",
            "\n",
            "\n",
            "                 come    effect  implement  influenc   mainten     phase  \\\n",
            "keyStem      0.000000  0.446101   0.446101  0.000000  0.446101  0.634809   \n",
            "studentStem  0.249805  0.000000   0.000000  0.249805  0.000000  0.355477   \n",
            "\n",
            "                refin     solut     stage      test  \n",
            "keyStem      0.000000  0.000000  0.000000  0.000000  \n",
            "studentStem  0.249805  0.249805  0.749415  0.249805  \n",
            "Cosine Similarity = 0.22565978583795082\n",
            "\n",
            "\n"
          ]
        }
      ],
      "source": [
        "# Cosine Similarity for Stem\n",
        "\n",
        "tfidf_vectorizer2 = TfidfVectorizer()\n",
        "similarity2=[]\n",
        "\n",
        "full_df['keyStem'] = full_df['keyStem'].astype(str)\n",
        "full_df['studentStem'] = full_df['studentStem'].astype(str)\n",
        "\n",
        "for i in range(len(full_df)):\n",
        "  doc12=full_df['keyStem'][i]\n",
        "  doc22=full_df['studentStem'][i]\n",
        "  docs2=(doc12,doc22)\n",
        "  tfidf_matrix2 = tfidf_vectorizer2.fit_transform(docs2)\n",
        "  tfidf_tokens2 = tfidf_vectorizer2.get_feature_names_out()\n",
        "  df_tfidfvect2 = pd.DataFrame(data = tfidf_matrix2.toarray(),index = ['keyStem','studentStem'],columns = tfidf_tokens2)\n",
        "  print(df_tfidfvect2)\n",
        "\n",
        "  cosine_sim2 = cosine_similarity(tfidf_matrix2[0], tfidf_matrix2[1])\n",
        "  print(\"Cosine Similarity =\", cosine_sim2[0][0])\n",
        "  print(\"\\n\")\n",
        "  similarity2.append(cosine_sim2[0][0])\n",
        "\n",
        "full_df['cosineSimilarityStem']=similarity2"
      ]
    },
    {
      "cell_type": "markdown",
      "metadata": {},
      "source": [
        "**Scoring**"
      ]
    },
    {
      "cell_type": "code",
      "execution_count": 177,
      "metadata": {
        "id": "2xBUx1Owzp_-"
      },
      "outputs": [
        {
          "data": {
            "text/html": [
              "<div>\n",
              "<style scoped>\n",
              "    .dataframe tbody tr th:only-of-type {\n",
              "        vertical-align: middle;\n",
              "    }\n",
              "\n",
              "    .dataframe tbody tr th {\n",
              "        vertical-align: top;\n",
              "    }\n",
              "\n",
              "    .dataframe thead th {\n",
              "        text-align: right;\n",
              "    }\n",
              "</style>\n",
              "<table border=\"1\" class=\"dataframe\">\n",
              "  <thead>\n",
              "    <tr style=\"text-align: right;\">\n",
              "      <th></th>\n",
              "      <th>scoreModelLemma</th>\n",
              "    </tr>\n",
              "  </thead>\n",
              "  <tbody>\n",
              "    <tr>\n",
              "      <th>0</th>\n",
              "      <td>1.128299</td>\n",
              "    </tr>\n",
              "    <tr>\n",
              "      <th>1</th>\n",
              "      <td>1.128299</td>\n",
              "    </tr>\n",
              "  </tbody>\n",
              "</table>\n",
              "</div>"
            ],
            "text/plain": [
              "   scoreModelLemma\n",
              "0         1.128299\n",
              "1         1.128299"
            ]
          },
          "execution_count": 177,
          "metadata": {},
          "output_type": "execute_result"
        }
      ],
      "source": [
        "# Scoring for Lemmatized\n",
        "scoring = full_df['cosineSimilarityLemma']\n",
        "\n",
        "scoring = scoring.mul(5)\n",
        "\n",
        "# full_df = full_df.drop('scoreModel', axis=1)\n",
        "full_df['scoreModelLemma'] = scoring\n",
        "\n",
        "full_df[['scoreModelLemma']]"
      ]
    },
    {
      "cell_type": "code",
      "execution_count": 178,
      "metadata": {
        "id": "L9QskRB86-CN"
      },
      "outputs": [
        {
          "data": {
            "text/html": [
              "<div>\n",
              "<style scoped>\n",
              "    .dataframe tbody tr th:only-of-type {\n",
              "        vertical-align: middle;\n",
              "    }\n",
              "\n",
              "    .dataframe tbody tr th {\n",
              "        vertical-align: top;\n",
              "    }\n",
              "\n",
              "    .dataframe thead th {\n",
              "        text-align: right;\n",
              "    }\n",
              "</style>\n",
              "<table border=\"1\" class=\"dataframe\">\n",
              "  <thead>\n",
              "    <tr style=\"text-align: right;\">\n",
              "      <th></th>\n",
              "      <th>scoreModelStem</th>\n",
              "    </tr>\n",
              "  </thead>\n",
              "  <tbody>\n",
              "    <tr>\n",
              "      <th>0</th>\n",
              "      <td>1.128299</td>\n",
              "    </tr>\n",
              "    <tr>\n",
              "      <th>1</th>\n",
              "      <td>1.128299</td>\n",
              "    </tr>\n",
              "  </tbody>\n",
              "</table>\n",
              "</div>"
            ],
            "text/plain": [
              "   scoreModelStem\n",
              "0        1.128299\n",
              "1        1.128299"
            ]
          },
          "execution_count": 178,
          "metadata": {},
          "output_type": "execute_result"
        }
      ],
      "source": [
        "# Scoring for Stemming\n",
        "scoring2 = full_df['cosineSimilarityStem']\n",
        "\n",
        "scoring2 = scoring2.mul(5)\n",
        "\n",
        "full_df['scoreModelStem'] = scoring2\n",
        "\n",
        "full_df[['scoreModelStem']]"
      ]
    },
    {
      "attachments": {},
      "cell_type": "markdown",
      "metadata": {},
      "source": [
        "Uji Analisis (Abaikan)"
      ]
    },
    {
      "attachments": {},
      "cell_type": "markdown",
      "metadata": {},
      "source": [
        "index 11, index 31"
      ]
    },
    {
      "cell_type": "code",
      "execution_count": 179,
      "metadata": {},
      "outputs": [
        {
          "data": {
            "text/plain": [
              "'{\"keyAnswer\":{\"0\":\"The testing stage can influence both the coding stage (phase 5) and the solution refinement stage (phase 7)\",\"1\":\"The implementation phase and the maintenance phase are effected\"},\"studentAnswer\":{\"0\":\"The implementation phase and the maintenance phase are effected\",\"1\":\"The testing stage can influence both the coding stage (phase 5) and the solution refinement stage (phase 7)\"},\"keySpell\":{\"0\":\"The testing stage can influence both the coming stage (phase 5) and the solution refinement stage (phase 7)\",\"1\":\"The implementation phase and the maintenance phase are effected\"},\"studentSpell\":{\"0\":\"The implementation phase and the maintenance phase are effected\",\"1\":\"The testing stage can influence both the coming stage (phase 5) and the solution refinement stage (phase 7)\"},\"keyLower\":{\"0\":\"the testing stage can influence both the coming stage (phase 5) and the solution refinement stage (phase 7)\",\"1\":\"the implementation phase and the maintenance phase are effected\"},\"studentLower\":{\"0\":\"the implementation phase and the maintenance phase are effected\",\"1\":\"the testing stage can influence both the coming stage (phase 5) and the solution refinement stage (phase 7)\"},\"keyPunct\":{\"0\":\"the testing stage can influence both the coming stage phase 5 and the solution refinement stage phase 7\",\"1\":\"the implementation phase and the maintenance phase are effected\"},\"studentPunct\":{\"0\":\"the implementation phase and the maintenance phase are effected\",\"1\":\"the testing stage can influence both the coming stage phase 5 and the solution refinement stage phase 7\"},\"keyStopword\":{\"0\":\"testing stage influence coming stage phase 5 solution refinement stage phase 7\",\"1\":\"implementation phase maintenance phase effected\"},\"studentStopword\":{\"0\":\"implementation phase maintenance phase effected\",\"1\":\"testing stage influence coming stage phase 5 solution refinement stage phase 7\"},\"studentStem\":{\"0\":\"implement phase mainten phase effect\",\"1\":\"test stage influenc come stage phase 5 solut refin stage phase 7\"},\"keyStem\":{\"0\":\"test stage influenc come stage phase 5 solut refin stage phase 7\",\"1\":\"implement phase mainten phase effect\"},\"studentSplit\":{\"0\":[\"implementation\",\"phase\",\"maintenance\",\"phase\",\"effected\"],\"1\":[\"testing\",\"stage\",\"influence\",\"coming\",\"stage\",\"phase\",\"5\",\"solution\",\"refinement\",\"stage\",\"phase\",\"7\"]},\"keySplit\":{\"0\":[\"testing\",\"stage\",\"influence\",\"coming\",\"stage\",\"phase\",\"5\",\"solution\",\"refinement\",\"stage\",\"phase\",\"7\"],\"1\":[\"implementation\",\"phase\",\"maintenance\",\"phase\",\"effected\"]},\"keyPostag\":{\"0\":[[\"testing\",\"VBG\"],[\"stage\",\"NN\"],[\"influence\",\"NN\"],[\"coming\",\"VBG\"],[\"stage\",\"NN\"],[\"phase\",\"NN\"],[\"5\",\"CD\"],[\"solution\",\"NN\"],[\"refinement\",\"NN\"],[\"stage\",\"NN\"],[\"phase\",\"NN\"],[\"7\",\"CD\"]],\"1\":[[\"implementation\",\"NN\"],[\"phase\",\"NN\"],[\"maintenance\",\"NN\"],[\"phase\",\"NN\"],[\"effected\",\"VBD\"]]},\"studentPostag\":{\"0\":[[\"implementation\",\"NN\"],[\"phase\",\"NN\"],[\"maintenance\",\"NN\"],[\"phase\",\"NN\"],[\"effected\",\"VBD\"]],\"1\":[[\"testing\",\"VBG\"],[\"stage\",\"NN\"],[\"influence\",\"NN\"],[\"coming\",\"VBG\"],[\"stage\",\"NN\"],[\"phase\",\"NN\"],[\"5\",\"CD\"],[\"solution\",\"NN\"],[\"refinement\",\"NN\"],[\"stage\",\"NN\"],[\"phase\",\"NN\"],[\"7\",\"CD\"]]},\"studentLemmatized\":{\"0\":\"implementation phase maintenance phase effect\",\"1\":\"test stage influence come stage phase 5 solution refinement stage phase 7\"},\"keyLemmatized\":{\"0\":\"test stage influence come stage phase 5 solution refinement stage phase 7\",\"1\":\"implementation phase maintenance phase effect\"},\"cosineSimilarityLemma\":{\"0\":0.2256597858,\"1\":0.2256597858},\"cosineSimilarityStem\":{\"0\":0.2256597858,\"1\":0.2256597858},\"scoreModelLemma\":{\"0\":1.1282989292,\"1\":1.1282989292},\"scoreModelStem\":{\"0\":1.1282989292,\"1\":1.1282989292}}'"
            ]
          },
          "execution_count": 179,
          "metadata": {},
          "output_type": "execute_result"
        }
      ],
      "source": [
        "full_df.to_json()"
      ]
    },
    {
      "cell_type": "code",
      "execution_count": null,
      "metadata": {},
      "outputs": [],
      "source": [
        "print(full_df)"
      ]
    },
    {
      "cell_type": "code",
      "execution_count": 180,
      "metadata": {},
      "outputs": [
        {
          "data": {
            "text/plain": [
              "3685"
            ]
          },
          "execution_count": 180,
          "metadata": {},
          "output_type": "execute_result"
        }
      ],
      "source": [
        "newfile = open(\"HasilPenilaianENG.json\", \"w\")\n",
        "newfile.write(full_df.to_json())"
      ]
    }
  ],
  "metadata": {
    "colab": {
      "provenance": []
    },
    "kernelspec": {
      "display_name": "Python 3.9.7 64-bit",
      "language": "python",
      "name": "python3"
    },
    "language_info": {
      "codemirror_mode": {
        "name": "ipython",
        "version": 3
      },
      "file_extension": ".py",
      "mimetype": "text/x-python",
      "name": "python",
      "nbconvert_exporter": "python",
      "pygments_lexer": "ipython3",
      "version": "3.11.5"
    },
    "vscode": {
      "interpreter": {
        "hash": "cf92aa13fedf815d5c8dd192b8d835913fde3e8bc926b2a0ad6cc74ef2ba3ca2"
      }
    }
  },
  "nbformat": 4,
  "nbformat_minor": 0
}
