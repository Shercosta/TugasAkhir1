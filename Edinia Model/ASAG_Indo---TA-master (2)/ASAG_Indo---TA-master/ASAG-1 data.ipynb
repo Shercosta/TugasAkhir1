{
 "cells": [
  {
   "cell_type": "code",
   "execution_count": 1,
   "metadata": {},
   "outputs": [],
   "source": [
    "import json\n",
    "import math\n",
    "from numpy.linalg import norm\n",
    "import pandas as pd\n",
    "import matplotlib.pyplot as plt\n",
    "import numpy as np\n",
    "import nltk\n",
    "import re\n",
    "from Sastrawi.Stemmer.StemmerFactory import StemmerFactory\n",
    "import string\n",
    "from string import digits\n",
    "from sklearn.metrics import mean_absolute_error as mae\n",
    "from sklearn.pipeline import Pipeline\n",
    "from spell import spell_check\n",
    "from Lemma import lemmatization\n",
    "from textblob import TextBlob"
   ]
  },
  {
   "attachments": {},
   "cell_type": "markdown",
   "metadata": {},
   "source": [
    "## Data"
   ]
  },
  {
   "cell_type": "code",
   "execution_count": 1,
   "metadata": {},
   "outputs": [],
   "source": [
    "kj = input(str)"
   ]
  },
  {
   "cell_type": "code",
   "execution_count": 2,
   "metadata": {},
   "outputs": [],
   "source": [
    "kj = \"ITERA di bentuk berdasarkan SK kepres yg terletak di Lampung Selatan\"\n",
    "jawaban = \"ITERA berlokasi di Lampung Selatan berdasarkan SK Menteri\""
   ]
  },
  {
   "cell_type": "code",
   "execution_count": 3,
   "metadata": {},
   "outputs": [
    {
     "name": "stdout",
     "output_type": "stream",
     "text": [
      "Text kunci jawaban:  ITERA di bentuk berdasarkan SK kepres yg terletak di Lampung Selatan\n",
      "Text Jawaban:  ITERA berlokasi di Lampung Selatan berdasarkan SK Menteri\n"
     ]
    }
   ],
   "source": [
    "print(\"Text kunci jawaban: \", kj)\n",
    "print(\"Text Jawaban: \",jawaban)"
   ]
  },
  {
   "attachments": {},
   "cell_type": "markdown",
   "metadata": {},
   "source": [
    "## Pre-Processing"
   ]
  },
  {
   "cell_type": "code",
   "execution_count": 4,
   "metadata": {},
   "outputs": [],
   "source": [
    "def case_folding(text):\n",
    "  pattern = r'[' + string.punctuation + ']'\n",
    "  punct = re.sub(pattern,\" \",str(text))\n",
    "  case_fold = punct.lower()\n",
    "  return case_fold\n",
    "\n",
    "def spellcheck(text):\n",
    "  text = spell_check(text)\n",
    "  return text\n",
    "\n",
    "def tokenization(text):\n",
    "    tokens = re.split(' ',text)\n",
    "    return tokens\n",
    "\n",
    "def remove_digits(text):\n",
    "  text = [item for item in text if item.isalpha()]\n",
    "  return text\n",
    "\n",
    "sw= nltk.corpus.stopwords.words('indonesian')\n",
    "def remove_SW(text):\n",
    "   text = [item for item in text if not item in sw]\n",
    "   return text\n",
    "\n",
    "factory = StemmerFactory()\n",
    "stemmer = factory.create_stemmer()\n",
    "\n",
    "def stemming(text):\n",
    "  text = [stemmer.stem(item) for item in text]\n",
    "  return text\n",
    "\n",
    "def lemma(text):\n",
    "  text = lemmatization(text)\n",
    "  return text\n"
   ]
  },
  {
   "attachments": {},
   "cell_type": "markdown",
   "metadata": {},
   "source": [
    "### Case folding"
   ]
  },
  {
   "cell_type": "code",
   "execution_count": 5,
   "metadata": {},
   "outputs": [
    {
     "name": "stdout",
     "output_type": "stream",
     "text": [
      "Text Kunci Jawaban:  itera di bentuk berdasarkan sk kepres yg terletak di lampung selatan\n",
      "Text Jawaban:  itera berlokasi di lampung selatan berdasarkan sk menteri\n"
     ]
    }
   ],
   "source": [
    "case_fold_q = case_folding(kj)\n",
    "case_fold_ans = case_folding(jawaban)\n",
    "\n",
    "print(\"Text Kunci Jawaban: \", case_fold_q)\n",
    "print(\"Text Jawaban: \",case_fold_ans)"
   ]
  },
  {
   "attachments": {},
   "cell_type": "markdown",
   "metadata": {},
   "source": [
    "### Spell check"
   ]
  },
  {
   "cell_type": "code",
   "execution_count": 6,
   "metadata": {},
   "outputs": [
    {
     "name": "stdout",
     "output_type": "stream",
     "text": [
      "Sebelum:  itera berlokasi di lampung selatan berdasarkan sk menteri\n",
      "Sesudah: itera berlokasi di lampung selatan berdasarkan sk menteri\n"
     ]
    }
   ],
   "source": [
    "spell_q = spell_check(case_fold_q)\n",
    "spell_ans = spell_check(case_fold_ans)\n",
    "\n",
    "print(\"Sebelum: \", case_fold_ans)\n",
    "print(\"Sesudah:\", spell_ans)"
   ]
  },
  {
   "attachments": {},
   "cell_type": "markdown",
   "metadata": {},
   "source": [
    "### Tokenization"
   ]
  },
  {
   "cell_type": "code",
   "execution_count": 7,
   "metadata": {},
   "outputs": [
    {
     "name": "stdout",
     "output_type": "stream",
     "text": [
      "Text Kunci Jawaban:  ['itera', 'di', 'bentuk', 'berdasarkan', 'sk', 'kepres', 'yang', 'terletak', 'di', 'lampung', 'selatan']\n",
      "Text Jawaban:  ['itera', 'berlokasi', 'di', 'lampung', 'selatan', 'berdasarkan', 'sk', 'menteri']\n"
     ]
    }
   ],
   "source": [
    "token_q = tokenization(spell_q)\n",
    "token_ans = tokenization(spell_ans)\n",
    "token_q = remove_digits(token_q)\n",
    "token_ans = remove_digits(token_ans)\n",
    "\n",
    "print(\"Text Kunci Jawaban: \", token_q)\n",
    "print(\"Text Jawaban: \", token_ans)"
   ]
  },
  {
   "attachments": {},
   "cell_type": "markdown",
   "metadata": {},
   "source": [
    "### Filtering"
   ]
  },
  {
   "cell_type": "code",
   "execution_count": 8,
   "metadata": {},
   "outputs": [
    {
     "name": "stdout",
     "output_type": "stream",
     "text": [
      "Text Kunci Jawaban:  ['itera', 'bentuk', 'berdasarkan', 'sk', 'kepres', 'terletak', 'lampung', 'selatan']\n",
      "Text Jawaban:  ['itera', 'berlokasi', 'lampung', 'selatan', 'berdasarkan', 'sk', 'menteri']\n"
     ]
    }
   ],
   "source": [
    "filter_q = remove_SW(token_q)\n",
    "filter_ans = remove_SW(token_ans)\n",
    "\n",
    "print(\"Text Kunci Jawaban: \", filter_q)\n",
    "print(\"Text Jawaban: \", filter_ans)"
   ]
  },
  {
   "attachments": {},
   "cell_type": "markdown",
   "metadata": {},
   "source": [
    "### Stemming"
   ]
  },
  {
   "cell_type": "code",
   "execution_count": 9,
   "metadata": {},
   "outputs": [
    {
     "name": "stdout",
     "output_type": "stream",
     "text": [
      "Text Kunci Jawaban:  ['itera', 'bentuk', 'dasar', 'sk', 'pres', 'letak', 'lampung', 'selatan']\n",
      "Text Jawaban:  ['itera', 'lokasi', 'lampung', 'selatan', 'dasar', 'sk', 'menteri']\n"
     ]
    }
   ],
   "source": [
    "stem_q = stemming(filter_q)\n",
    "stem_ans = stemming(filter_ans)\n",
    "\n",
    "print(\"Text Kunci Jawaban: \", stem_q)\n",
    "print(\"Text Jawaban: \", stem_ans)"
   ]
  },
  {
   "attachments": {},
   "cell_type": "markdown",
   "metadata": {},
   "source": [
    "### Lemmatization"
   ]
  },
  {
   "cell_type": "code",
   "execution_count": 10,
   "metadata": {},
   "outputs": [
    {
     "name": "stdout",
     "output_type": "stream",
     "text": [
      "Text Kunci Jawaban:  ['itera', 'bentuk', 'berdasarkan', 'sk', 'kepres', 'terletak', 'lampung', 'selatan']\n",
      "Text Jawaban:  ['itera', 'berlokasi', 'lampung', 'selatan', 'berdasarkan', 'sk', 'menteri']\n"
     ]
    }
   ],
   "source": [
    "lemma_q = lemma(filter_q)\n",
    "lemma_ans = lemma(filter_ans)\n",
    "\n",
    "print(\"Text Kunci Jawaban: \", lemma_q)\n",
    "print(\"Text Jawaban: \", lemma_ans)"
   ]
  },
  {
   "attachments": {},
   "cell_type": "markdown",
   "metadata": {},
   "source": [
    "## TF-IDF + Cosine + Score"
   ]
  },
  {
   "cell_type": "code",
   "execution_count": 11,
   "metadata": {},
   "outputs": [],
   "source": [
    "def term(q, ans):\n",
    "    for i in q:\n",
    "        if i == '':\n",
    "            q.remove('')\n",
    "    for i in ans:\n",
    "        if i == '':\n",
    "            ans.remove('')\n",
    "            \n",
    "    BoWQ = set(q)\n",
    "    BoWA = set(ans)\n",
    "\n",
    "    uniqueWords = BoWQ.union(BoWA)\n",
    "    # print(uniqueWords)\n",
    "\n",
    "    numOfWordsQ = dict.fromkeys(uniqueWords, 0)\n",
    "    for word in q:\n",
    "        numOfWordsQ[word] += 1\n",
    "\n",
    "    numOfWordsA = dict.fromkeys(uniqueWords, 0)\n",
    "    for word in ans:\n",
    "        numOfWordsA[word] += 1\n",
    "    \n",
    "    # print('Unique words', numOfWordsA)\n",
    "        \n",
    "    term = pd.DataFrame([numOfWordsQ, numOfWordsA])\n",
    "    term = term.transpose()\n",
    "    term.columns = ['TF_Q','TF_Ans']\n",
    "\n",
    "    # display(term)\n",
    "\n",
    "    dfQ = dict.fromkeys(uniqueWords, 0)\n",
    "    for word in BoWQ:\n",
    "        dfQ[word] += 1\n",
    "\n",
    "    dfA= dict.fromkeys(uniqueWords, 0)\n",
    "    for word in BoWA:\n",
    "        dfA[word] += 1\n",
    "    \n",
    "    term['DF_Q'] = dfQ.values()\n",
    "    term['DF_A'] = dfA.values()\n",
    "    \n",
    "    DF = []\n",
    "    for i in range(len(uniqueWords)):\n",
    "        DF.append(term['DF_Q'][i] + term['DF_A'][i])\n",
    "    term['DF'] = DF\n",
    "    # display(term)\n",
    "    \n",
    "    idfDict = []\n",
    "    \n",
    "    for i in range(len(term['DF'])):\n",
    "        idfDict.append(math.log10((2+1) / (term['DF'][i] + 1))+1)\n",
    "        # print(idfDict)\n",
    "    term['IDF'] = idfDict\n",
    "\n",
    "    # display(term)\n",
    "\n",
    "    tfidfQ = []\n",
    "    tfidfA = []\n",
    "    for i in range(len(uniqueWords)):\n",
    "        tfidfQ.append(term['TF_Q'][i]*term['IDF'][i])\n",
    "        tfidfA.append(term['TF_Ans'][i]*term['IDF'][i])\n",
    "\n",
    "    term['TF-IDF_Q'] = np.array(tfidfQ)\n",
    "    term['TF-IDF_A'] = np.array(tfidfA)\n",
    "\n",
    "    cosine = np.dot(tfidfQ,tfidfA)/(np.linalg.norm(tfidfQ)*np.linalg.norm(tfidfA))\n",
    "    \n",
    "    if math.isnan(cosine):\n",
    "        cosine = 0\n",
    "    print(\"Cosine Similarity:\",cosine)\n",
    "    print(\"Total kata\",len(term))\n",
    "    print('Skor: ', round((cosine*100),2))\n",
    "\n",
    "    return term"
   ]
  },
  {
   "cell_type": "code",
   "execution_count": 12,
   "metadata": {},
   "outputs": [
    {
     "name": "stdout",
     "output_type": "stream",
     "text": [
      "8\n",
      "11\n",
      "['ITERA', 'di', 'bentuk', 'berdasarkan', 'SK', 'kepres', 'yg', 'terletak', 'di', 'Lampung', 'Selatan']\n",
      "['ITERA', 'berlokasi', 'di', 'Lampung', 'Selatan', 'berdasarkan', 'SK', 'Menteri']\n"
     ]
    }
   ],
   "source": [
    "print(len(tokenization(jawaban)))\n",
    "print(len(tokenization(kj)))\n",
    "print(tokenization(kj))\n",
    "print(tokenization(jawaban))"
   ]
  },
  {
   "cell_type": "code",
   "execution_count": 13,
   "metadata": {},
   "outputs": [
    {
     "name": "stdout",
     "output_type": "stream",
     "text": [
      "Tanpa pre-processing \n",
      "\n",
      "Cosine Similarity: 0.6201743099878875\n",
      "Total kata 12\n",
      "Skor:  62.02\n"
     ]
    },
    {
     "data": {
      "text/html": [
       "<div>\n",
       "<style scoped>\n",
       "    .dataframe tbody tr th:only-of-type {\n",
       "        vertical-align: middle;\n",
       "    }\n",
       "\n",
       "    .dataframe tbody tr th {\n",
       "        vertical-align: top;\n",
       "    }\n",
       "\n",
       "    .dataframe thead th {\n",
       "        text-align: right;\n",
       "    }\n",
       "</style>\n",
       "<table border=\"1\" class=\"dataframe\">\n",
       "  <thead>\n",
       "    <tr style=\"text-align: right;\">\n",
       "      <th></th>\n",
       "      <th>TF_Q</th>\n",
       "      <th>TF_Ans</th>\n",
       "      <th>DF_Q</th>\n",
       "      <th>DF_A</th>\n",
       "      <th>DF</th>\n",
       "      <th>IDF</th>\n",
       "      <th>TF-IDF_Q</th>\n",
       "      <th>TF-IDF_A</th>\n",
       "    </tr>\n",
       "  </thead>\n",
       "  <tbody>\n",
       "    <tr>\n",
       "      <th>yg</th>\n",
       "      <td>1</td>\n",
       "      <td>0</td>\n",
       "      <td>1</td>\n",
       "      <td>0</td>\n",
       "      <td>1</td>\n",
       "      <td>1.176091</td>\n",
       "      <td>1.176091</td>\n",
       "      <td>0.000000</td>\n",
       "    </tr>\n",
       "    <tr>\n",
       "      <th>terletak</th>\n",
       "      <td>1</td>\n",
       "      <td>0</td>\n",
       "      <td>1</td>\n",
       "      <td>0</td>\n",
       "      <td>1</td>\n",
       "      <td>1.176091</td>\n",
       "      <td>1.176091</td>\n",
       "      <td>0.000000</td>\n",
       "    </tr>\n",
       "    <tr>\n",
       "      <th>berdasarkan</th>\n",
       "      <td>1</td>\n",
       "      <td>1</td>\n",
       "      <td>1</td>\n",
       "      <td>1</td>\n",
       "      <td>2</td>\n",
       "      <td>1.000000</td>\n",
       "      <td>1.000000</td>\n",
       "      <td>1.000000</td>\n",
       "    </tr>\n",
       "    <tr>\n",
       "      <th>SK</th>\n",
       "      <td>1</td>\n",
       "      <td>1</td>\n",
       "      <td>1</td>\n",
       "      <td>1</td>\n",
       "      <td>2</td>\n",
       "      <td>1.000000</td>\n",
       "      <td>1.000000</td>\n",
       "      <td>1.000000</td>\n",
       "    </tr>\n",
       "    <tr>\n",
       "      <th>berlokasi</th>\n",
       "      <td>0</td>\n",
       "      <td>1</td>\n",
       "      <td>0</td>\n",
       "      <td>1</td>\n",
       "      <td>1</td>\n",
       "      <td>1.176091</td>\n",
       "      <td>0.000000</td>\n",
       "      <td>1.176091</td>\n",
       "    </tr>\n",
       "    <tr>\n",
       "      <th>Lampung</th>\n",
       "      <td>1</td>\n",
       "      <td>1</td>\n",
       "      <td>1</td>\n",
       "      <td>1</td>\n",
       "      <td>2</td>\n",
       "      <td>1.000000</td>\n",
       "      <td>1.000000</td>\n",
       "      <td>1.000000</td>\n",
       "    </tr>\n",
       "    <tr>\n",
       "      <th>Selatan</th>\n",
       "      <td>1</td>\n",
       "      <td>1</td>\n",
       "      <td>1</td>\n",
       "      <td>1</td>\n",
       "      <td>2</td>\n",
       "      <td>1.000000</td>\n",
       "      <td>1.000000</td>\n",
       "      <td>1.000000</td>\n",
       "    </tr>\n",
       "    <tr>\n",
       "      <th>ITERA</th>\n",
       "      <td>1</td>\n",
       "      <td>1</td>\n",
       "      <td>1</td>\n",
       "      <td>1</td>\n",
       "      <td>2</td>\n",
       "      <td>1.000000</td>\n",
       "      <td>1.000000</td>\n",
       "      <td>1.000000</td>\n",
       "    </tr>\n",
       "    <tr>\n",
       "      <th>kepres</th>\n",
       "      <td>1</td>\n",
       "      <td>0</td>\n",
       "      <td>1</td>\n",
       "      <td>0</td>\n",
       "      <td>1</td>\n",
       "      <td>1.176091</td>\n",
       "      <td>1.176091</td>\n",
       "      <td>0.000000</td>\n",
       "    </tr>\n",
       "    <tr>\n",
       "      <th>bentuk</th>\n",
       "      <td>1</td>\n",
       "      <td>0</td>\n",
       "      <td>1</td>\n",
       "      <td>0</td>\n",
       "      <td>1</td>\n",
       "      <td>1.176091</td>\n",
       "      <td>1.176091</td>\n",
       "      <td>0.000000</td>\n",
       "    </tr>\n",
       "    <tr>\n",
       "      <th>Menteri</th>\n",
       "      <td>0</td>\n",
       "      <td>1</td>\n",
       "      <td>0</td>\n",
       "      <td>1</td>\n",
       "      <td>1</td>\n",
       "      <td>1.176091</td>\n",
       "      <td>0.000000</td>\n",
       "      <td>1.176091</td>\n",
       "    </tr>\n",
       "    <tr>\n",
       "      <th>di</th>\n",
       "      <td>2</td>\n",
       "      <td>1</td>\n",
       "      <td>1</td>\n",
       "      <td>1</td>\n",
       "      <td>2</td>\n",
       "      <td>1.000000</td>\n",
       "      <td>2.000000</td>\n",
       "      <td>1.000000</td>\n",
       "    </tr>\n",
       "  </tbody>\n",
       "</table>\n",
       "</div>"
      ],
      "text/plain": [
       "             TF_Q  TF_Ans  DF_Q  DF_A  DF       IDF  TF-IDF_Q  TF-IDF_A\n",
       "yg              1       0     1     0   1  1.176091  1.176091  0.000000\n",
       "terletak        1       0     1     0   1  1.176091  1.176091  0.000000\n",
       "berdasarkan     1       1     1     1   2  1.000000  1.000000  1.000000\n",
       "SK              1       1     1     1   2  1.000000  1.000000  1.000000\n",
       "berlokasi       0       1     0     1   1  1.176091  0.000000  1.176091\n",
       "Lampung         1       1     1     1   2  1.000000  1.000000  1.000000\n",
       "Selatan         1       1     1     1   2  1.000000  1.000000  1.000000\n",
       "ITERA           1       1     1     1   2  1.000000  1.000000  1.000000\n",
       "kepres          1       0     1     0   1  1.176091  1.176091  0.000000\n",
       "bentuk          1       0     1     0   1  1.176091  1.176091  0.000000\n",
       "Menteri         0       1     0     1   1  1.176091  0.000000  1.176091\n",
       "di              2       1     1     1   2  1.000000  2.000000  1.000000"
      ]
     },
     "execution_count": 13,
     "metadata": {},
     "output_type": "execute_result"
    }
   ],
   "source": [
    "print(\"Tanpa pre-processing\",'\\n')\n",
    "term(tokenization(kj),tokenization(jawaban))"
   ]
  },
  {
   "cell_type": "code",
   "execution_count": 14,
   "metadata": {},
   "outputs": [
    {
     "name": "stdout",
     "output_type": "stream",
     "text": [
      "Stemming \n",
      "\n",
      "Cosine Similarity: 0.5931441638256351\n",
      "Total kata 10\n",
      "Skor:  59.31\n"
     ]
    },
    {
     "data": {
      "text/html": [
       "<div>\n",
       "<style scoped>\n",
       "    .dataframe tbody tr th:only-of-type {\n",
       "        vertical-align: middle;\n",
       "    }\n",
       "\n",
       "    .dataframe tbody tr th {\n",
       "        vertical-align: top;\n",
       "    }\n",
       "\n",
       "    .dataframe thead th {\n",
       "        text-align: right;\n",
       "    }\n",
       "</style>\n",
       "<table border=\"1\" class=\"dataframe\">\n",
       "  <thead>\n",
       "    <tr style=\"text-align: right;\">\n",
       "      <th></th>\n",
       "      <th>TF_Q</th>\n",
       "      <th>TF_Ans</th>\n",
       "      <th>DF_Q</th>\n",
       "      <th>DF_A</th>\n",
       "      <th>DF</th>\n",
       "      <th>IDF</th>\n",
       "      <th>TF-IDF_Q</th>\n",
       "      <th>TF-IDF_A</th>\n",
       "    </tr>\n",
       "  </thead>\n",
       "  <tbody>\n",
       "    <tr>\n",
       "      <th>menteri</th>\n",
       "      <td>0</td>\n",
       "      <td>1</td>\n",
       "      <td>0</td>\n",
       "      <td>1</td>\n",
       "      <td>1</td>\n",
       "      <td>1.176091</td>\n",
       "      <td>0.000000</td>\n",
       "      <td>1.176091</td>\n",
       "    </tr>\n",
       "    <tr>\n",
       "      <th>sk</th>\n",
       "      <td>1</td>\n",
       "      <td>1</td>\n",
       "      <td>1</td>\n",
       "      <td>1</td>\n",
       "      <td>2</td>\n",
       "      <td>1.000000</td>\n",
       "      <td>1.000000</td>\n",
       "      <td>1.000000</td>\n",
       "    </tr>\n",
       "    <tr>\n",
       "      <th>itera</th>\n",
       "      <td>1</td>\n",
       "      <td>1</td>\n",
       "      <td>1</td>\n",
       "      <td>1</td>\n",
       "      <td>2</td>\n",
       "      <td>1.000000</td>\n",
       "      <td>1.000000</td>\n",
       "      <td>1.000000</td>\n",
       "    </tr>\n",
       "    <tr>\n",
       "      <th>lampung</th>\n",
       "      <td>1</td>\n",
       "      <td>1</td>\n",
       "      <td>1</td>\n",
       "      <td>1</td>\n",
       "      <td>2</td>\n",
       "      <td>1.000000</td>\n",
       "      <td>1.000000</td>\n",
       "      <td>1.000000</td>\n",
       "    </tr>\n",
       "    <tr>\n",
       "      <th>letak</th>\n",
       "      <td>1</td>\n",
       "      <td>0</td>\n",
       "      <td>1</td>\n",
       "      <td>0</td>\n",
       "      <td>1</td>\n",
       "      <td>1.176091</td>\n",
       "      <td>1.176091</td>\n",
       "      <td>0.000000</td>\n",
       "    </tr>\n",
       "    <tr>\n",
       "      <th>lokasi</th>\n",
       "      <td>0</td>\n",
       "      <td>1</td>\n",
       "      <td>0</td>\n",
       "      <td>1</td>\n",
       "      <td>1</td>\n",
       "      <td>1.176091</td>\n",
       "      <td>0.000000</td>\n",
       "      <td>1.176091</td>\n",
       "    </tr>\n",
       "    <tr>\n",
       "      <th>pres</th>\n",
       "      <td>1</td>\n",
       "      <td>0</td>\n",
       "      <td>1</td>\n",
       "      <td>0</td>\n",
       "      <td>1</td>\n",
       "      <td>1.176091</td>\n",
       "      <td>1.176091</td>\n",
       "      <td>0.000000</td>\n",
       "    </tr>\n",
       "    <tr>\n",
       "      <th>dasar</th>\n",
       "      <td>1</td>\n",
       "      <td>1</td>\n",
       "      <td>1</td>\n",
       "      <td>1</td>\n",
       "      <td>2</td>\n",
       "      <td>1.000000</td>\n",
       "      <td>1.000000</td>\n",
       "      <td>1.000000</td>\n",
       "    </tr>\n",
       "    <tr>\n",
       "      <th>selatan</th>\n",
       "      <td>1</td>\n",
       "      <td>1</td>\n",
       "      <td>1</td>\n",
       "      <td>1</td>\n",
       "      <td>2</td>\n",
       "      <td>1.000000</td>\n",
       "      <td>1.000000</td>\n",
       "      <td>1.000000</td>\n",
       "    </tr>\n",
       "    <tr>\n",
       "      <th>bentuk</th>\n",
       "      <td>1</td>\n",
       "      <td>0</td>\n",
       "      <td>1</td>\n",
       "      <td>0</td>\n",
       "      <td>1</td>\n",
       "      <td>1.176091</td>\n",
       "      <td>1.176091</td>\n",
       "      <td>0.000000</td>\n",
       "    </tr>\n",
       "  </tbody>\n",
       "</table>\n",
       "</div>"
      ],
      "text/plain": [
       "         TF_Q  TF_Ans  DF_Q  DF_A  DF       IDF  TF-IDF_Q  TF-IDF_A\n",
       "menteri     0       1     0     1   1  1.176091  0.000000  1.176091\n",
       "sk          1       1     1     1   2  1.000000  1.000000  1.000000\n",
       "itera       1       1     1     1   2  1.000000  1.000000  1.000000\n",
       "lampung     1       1     1     1   2  1.000000  1.000000  1.000000\n",
       "letak       1       0     1     0   1  1.176091  1.176091  0.000000\n",
       "lokasi      0       1     0     1   1  1.176091  0.000000  1.176091\n",
       "pres        1       0     1     0   1  1.176091  1.176091  0.000000\n",
       "dasar       1       1     1     1   2  1.000000  1.000000  1.000000\n",
       "selatan     1       1     1     1   2  1.000000  1.000000  1.000000\n",
       "bentuk      1       0     1     0   1  1.176091  1.176091  0.000000"
      ]
     },
     "execution_count": 14,
     "metadata": {},
     "output_type": "execute_result"
    }
   ],
   "source": [
    "print(\"Stemming\",'\\n')\n",
    "term(stem_q, stem_ans)"
   ]
  },
  {
   "cell_type": "code",
   "execution_count": 15,
   "metadata": {},
   "outputs": [
    {
     "name": "stdout",
     "output_type": "stream",
     "text": [
      "Lemmatization \n",
      "\n",
      "Cosine Similarity: 0.5931441638256351\n",
      "Total kata 10\n",
      "Skor:  59.31\n"
     ]
    },
    {
     "data": {
      "text/html": [
       "<div>\n",
       "<style scoped>\n",
       "    .dataframe tbody tr th:only-of-type {\n",
       "        vertical-align: middle;\n",
       "    }\n",
       "\n",
       "    .dataframe tbody tr th {\n",
       "        vertical-align: top;\n",
       "    }\n",
       "\n",
       "    .dataframe thead th {\n",
       "        text-align: right;\n",
       "    }\n",
       "</style>\n",
       "<table border=\"1\" class=\"dataframe\">\n",
       "  <thead>\n",
       "    <tr style=\"text-align: right;\">\n",
       "      <th></th>\n",
       "      <th>TF_Q</th>\n",
       "      <th>TF_Ans</th>\n",
       "      <th>DF_Q</th>\n",
       "      <th>DF_A</th>\n",
       "      <th>DF</th>\n",
       "      <th>IDF</th>\n",
       "      <th>TF-IDF_Q</th>\n",
       "      <th>TF-IDF_A</th>\n",
       "    </tr>\n",
       "  </thead>\n",
       "  <tbody>\n",
       "    <tr>\n",
       "      <th>menteri</th>\n",
       "      <td>0</td>\n",
       "      <td>1</td>\n",
       "      <td>0</td>\n",
       "      <td>1</td>\n",
       "      <td>1</td>\n",
       "      <td>1.176091</td>\n",
       "      <td>0.000000</td>\n",
       "      <td>1.176091</td>\n",
       "    </tr>\n",
       "    <tr>\n",
       "      <th>sk</th>\n",
       "      <td>1</td>\n",
       "      <td>1</td>\n",
       "      <td>1</td>\n",
       "      <td>1</td>\n",
       "      <td>2</td>\n",
       "      <td>1.000000</td>\n",
       "      <td>1.000000</td>\n",
       "      <td>1.000000</td>\n",
       "    </tr>\n",
       "    <tr>\n",
       "      <th>itera</th>\n",
       "      <td>1</td>\n",
       "      <td>1</td>\n",
       "      <td>1</td>\n",
       "      <td>1</td>\n",
       "      <td>2</td>\n",
       "      <td>1.000000</td>\n",
       "      <td>1.000000</td>\n",
       "      <td>1.000000</td>\n",
       "    </tr>\n",
       "    <tr>\n",
       "      <th>terletak</th>\n",
       "      <td>1</td>\n",
       "      <td>0</td>\n",
       "      <td>1</td>\n",
       "      <td>0</td>\n",
       "      <td>1</td>\n",
       "      <td>1.176091</td>\n",
       "      <td>1.176091</td>\n",
       "      <td>0.000000</td>\n",
       "    </tr>\n",
       "    <tr>\n",
       "      <th>lampung</th>\n",
       "      <td>1</td>\n",
       "      <td>1</td>\n",
       "      <td>1</td>\n",
       "      <td>1</td>\n",
       "      <td>2</td>\n",
       "      <td>1.000000</td>\n",
       "      <td>1.000000</td>\n",
       "      <td>1.000000</td>\n",
       "    </tr>\n",
       "    <tr>\n",
       "      <th>berdasarkan</th>\n",
       "      <td>1</td>\n",
       "      <td>1</td>\n",
       "      <td>1</td>\n",
       "      <td>1</td>\n",
       "      <td>2</td>\n",
       "      <td>1.000000</td>\n",
       "      <td>1.000000</td>\n",
       "      <td>1.000000</td>\n",
       "    </tr>\n",
       "    <tr>\n",
       "      <th>berlokasi</th>\n",
       "      <td>0</td>\n",
       "      <td>1</td>\n",
       "      <td>0</td>\n",
       "      <td>1</td>\n",
       "      <td>1</td>\n",
       "      <td>1.176091</td>\n",
       "      <td>0.000000</td>\n",
       "      <td>1.176091</td>\n",
       "    </tr>\n",
       "    <tr>\n",
       "      <th>selatan</th>\n",
       "      <td>1</td>\n",
       "      <td>1</td>\n",
       "      <td>1</td>\n",
       "      <td>1</td>\n",
       "      <td>2</td>\n",
       "      <td>1.000000</td>\n",
       "      <td>1.000000</td>\n",
       "      <td>1.000000</td>\n",
       "    </tr>\n",
       "    <tr>\n",
       "      <th>kepres</th>\n",
       "      <td>1</td>\n",
       "      <td>0</td>\n",
       "      <td>1</td>\n",
       "      <td>0</td>\n",
       "      <td>1</td>\n",
       "      <td>1.176091</td>\n",
       "      <td>1.176091</td>\n",
       "      <td>0.000000</td>\n",
       "    </tr>\n",
       "    <tr>\n",
       "      <th>bentuk</th>\n",
       "      <td>1</td>\n",
       "      <td>0</td>\n",
       "      <td>1</td>\n",
       "      <td>0</td>\n",
       "      <td>1</td>\n",
       "      <td>1.176091</td>\n",
       "      <td>1.176091</td>\n",
       "      <td>0.000000</td>\n",
       "    </tr>\n",
       "  </tbody>\n",
       "</table>\n",
       "</div>"
      ],
      "text/plain": [
       "             TF_Q  TF_Ans  DF_Q  DF_A  DF       IDF  TF-IDF_Q  TF-IDF_A\n",
       "menteri         0       1     0     1   1  1.176091  0.000000  1.176091\n",
       "sk              1       1     1     1   2  1.000000  1.000000  1.000000\n",
       "itera           1       1     1     1   2  1.000000  1.000000  1.000000\n",
       "terletak        1       0     1     0   1  1.176091  1.176091  0.000000\n",
       "lampung         1       1     1     1   2  1.000000  1.000000  1.000000\n",
       "berdasarkan     1       1     1     1   2  1.000000  1.000000  1.000000\n",
       "berlokasi       0       1     0     1   1  1.176091  0.000000  1.176091\n",
       "selatan         1       1     1     1   2  1.000000  1.000000  1.000000\n",
       "kepres          1       0     1     0   1  1.176091  1.176091  0.000000\n",
       "bentuk          1       0     1     0   1  1.176091  1.176091  0.000000"
      ]
     },
     "execution_count": 15,
     "metadata": {},
     "output_type": "execute_result"
    }
   ],
   "source": [
    "print(\"Lemmatization\",'\\n')\n",
    "term(lemma_q, lemma_ans)"
   ]
  }
 ],
 "metadata": {
  "kernelspec": {
   "display_name": "Python 3",
   "language": "python",
   "name": "python3"
  },
  "language_info": {
   "codemirror_mode": {
    "name": "ipython",
    "version": 3
   },
   "file_extension": ".py",
   "mimetype": "text/x-python",
   "name": "python",
   "nbconvert_exporter": "python",
   "pygments_lexer": "ipython3",
   "version": "3.9.13"
  },
  "orig_nbformat": 4,
  "vscode": {
   "interpreter": {
    "hash": "75d7e97546f3f779c2f1c3987c73a9e3c88127590789d109a23ce07b21b1a428"
   }
  }
 },
 "nbformat": 4,
 "nbformat_minor": 2
}
